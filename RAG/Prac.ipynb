{
 "cells": [
  {
   "cell_type": "code",
   "execution_count": null,
   "id": "bea536f0",
   "metadata": {},
   "outputs": [],
   "source": [
    "# requirements.txt\n",
    "# langchain, chromadb, openai, tiktoken, sentence-transformers, pandas\n",
    "\n",
    "from langchain.document_loaders import JSONLoader\n",
    "from langchain.text_splitter import RecursiveCharacterTextSplitter\n",
    "from langchain.embeddings import HuggingFaceEmbeddings\n",
    "from langchain.vectorstores import Chroma\n",
    "from langchain.chat_models import ChatOpenAI\n",
    "from langchain.chains import RetrievalQA\n",
    "import json\n",
    "\n",
    "OPEN_API_KEY = 'openai_api_key'\n",
    "\n",
    "# JSON 문서 로드\n",
    "with open('docs.json', encoding='utf-8') as f:\n",
    "    raw_data = json.load(f)\n",
    "\n",
    "documents = [d[\"text\"] for d in raw_data]\n",
    "\n",
    "# 문서 전처리\n",
    "splitter = RecursiveCharacterTextSplitter(chunk_size=300, chunk_overlap=30)\n",
    "docs = splitter.create_documents(documents)\n",
    "\n",
    "# 한국어 임베딩 모델\n",
    "embedding_model = HuggingFaceEmbeddings(model_name=\"jhgan/ko-sroberta-multitask\")\n",
    "\n",
    "# 벡터스토어 생성\n",
    "db = Chroma.from_documents(docs, embedding=embedding_model, persist_directory=\"./chroma_db\")\n",
    "db.persist()\n",
    "\n",
    "# OpenAI 모델 로드\n",
    "llm = ChatOpenAI(model=\"gpt-3.5-turbo\", temperature=0, openai_api_key=f\"{OPEN_API_KEY}\")\n",
    "\n",
    "# RAG QA 체인 구성\n",
    "qa_chain = RetrievalQA.from_chain_type(\n",
    "    llm=llm,\n",
    "    retriever=db.as_retriever(search_type=\"similarity\", k=3),\n",
    "    return_source_documents=True\n",
    ")\n",
    "\n",
    "query = \"개인정보 수집 시 필요한 법적 조건은?\"\n",
    "result = qa_chain(query)\n",
    "\n",
    "print(\"답변:\", result['result'])\n",
    "print(\"출처 문서:\", result['source_documents'])\n"
   ]
  }
 ],
 "metadata": {
  "language_info": {
   "name": "python"
  }
 },
 "nbformat": 4,
 "nbformat_minor": 5
}
